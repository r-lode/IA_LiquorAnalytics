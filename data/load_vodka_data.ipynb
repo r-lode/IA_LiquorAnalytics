{
 "cells": [
  {
   "cell_type": "markdown",
   "metadata": {},
   "source": [
    "Now we can demonstrate the power of our approach by collecting data the entire set of Vokda sales data from over 99% of the liquor sales data in Iowa over the past 12 years. This will be done in a single jupyter cell and later output to a .txt file. This file can then easily be loaded into Tableau for further analysis."
   ]
  },
  {
   "cell_type": "code",
   "execution_count": 1,
   "metadata": {},
   "outputs": [],
   "source": [
    "import pandas as pd\n",
    "import mysql.connector"
   ]
  },
  {
   "cell_type": "code",
   "execution_count": 2,
   "metadata": {},
   "outputs": [],
   "source": [
    "#connect to mysql server\n",
    "connection = mysql.connector.connect(\n",
    "    host=\"host\",\n",
    "    user=\"root\",\n",
    "    password=\"not_my_pass\",\n",
    "    database=\"mysql_database\"\n",
    ")\n",
    "\n",
    "#create a cursor to execute SQL commands\n",
    "cursor = connection.cursor()\n",
    "\n",
    "#initialize an empty list to store dfs\n",
    "data_frames = []\n",
    "\n",
    "#range of years to gather data, for this we will get the entire set of Vokda sales\n",
    "year_range = range(2012, 2024)\n",
    "\n",
    "#iterate through year in nrage\n",
    "for year in year_range:\n",
    "\n",
    "    #get name of liquor sales table in mysql database\n",
    "    table_name = f\"liquor_sales_{year}\"\n",
    "\n",
    "    #SQL query to select Vodka sales rows\n",
    "    select_query = f\"SELECT * FROM {table_name} WHERE Vodka = 1\"\n",
    "\n",
    "    #execute query\n",
    "    cursor.execute(select_query)\n",
    "\n",
    "    #gather rows that match the condition into list of tuples\n",
    "    selected_rows = cursor.fetchall()\n",
    "\n",
    "    #get column names from the cursor \n",
    "    column_names = [desc[0] for desc in cursor.description]\n",
    "\n",
    "    #convert these rows to a df\n",
    "    vodka_dataframe = pd.DataFrame(selected_rows, columns=column_names)\n",
    "\n",
    "    #append df to the list\n",
    "    data_frames.append(vodka_dataframe)\n",
    "\n",
    "#concatenate all dfs into a single df\n",
    "combined_vodka_df = pd.concat(data_frames, ignore_index=True)\n",
    "\n",
    "#close cursor and connection\n",
    "cursor.close()\n",
    "connection.close()\n"
   ]
  },
  {
   "cell_type": "code",
   "execution_count": 3,
   "metadata": {},
   "outputs": [
    {
     "data": {
      "text/plain": [
       "6851739"
      ]
     },
     "execution_count": 3,
     "metadata": {},
     "output_type": "execute_result"
    }
   ],
   "source": [
    "len(combined_vodka_df)"
   ]
  },
  {
   "cell_type": "code",
   "execution_count": null,
   "metadata": {},
   "outputs": [],
   "source": [
    "combined_vodka_df.info()"
   ]
  },
  {
   "cell_type": "code",
   "execution_count": null,
   "metadata": {},
   "outputs": [],
   "source": [
    "combined_vodka_df.head()"
   ]
  },
  {
   "cell_type": "markdown",
   "metadata": {},
   "source": [
    "Since we don't need the boolean columns corresponding to non-vodka data, we can simply drop them."
   ]
  },
  {
   "cell_type": "code",
   "execution_count": 4,
   "metadata": {},
   "outputs": [],
   "source": [
    "#list of columns to drop\n",
    "columns_to_drop = ['Whisky', 'Rum', 'Liqueur', 'Tequila', 'Gin', \n",
    "                   'Brandy', 'Schnapps', 'Scotch', 'Specialty', 'Special_Order']\n",
    "\n",
    "#drop columns\n",
    "final_vodka_df = combined_vodka_df.drop(columns=columns_to_drop)"
   ]
  },
  {
   "cell_type": "code",
   "execution_count": 5,
   "metadata": {},
   "outputs": [
    {
     "name": "stdout",
     "output_type": "stream",
     "text": [
      "<class 'pandas.core.frame.DataFrame'>\n",
      "RangeIndex: 6851739 entries, 0 to 6851738\n",
      "Data columns (total 28 columns):\n",
      " #   Column               Dtype  \n",
      "---  ------               -----  \n",
      " 0   id                   int64  \n",
      " 1   Date                 object \n",
      " 2   Store_Number         int64  \n",
      " 3   Store_Name           object \n",
      " 4   Address              object \n",
      " 5   City                 object \n",
      " 6   Zip_Code             int64  \n",
      " 7   Store_Location       object \n",
      " 8   County_Number        float64\n",
      " 9   County               object \n",
      " 10  Category             float64\n",
      " 11  Category_Name        object \n",
      " 12  Vendor_Number        float64\n",
      " 13  Vendor_Name          object \n",
      " 14  Item_Number          int64  \n",
      " 15  Item_Description     object \n",
      " 16  Pack                 int64  \n",
      " 17  Bottle_Volume_ml     int64  \n",
      " 18  State_Bottle_Cost    float64\n",
      " 19  State_Bottle_Retail  float64\n",
      " 20  Bottles_Sold         int64  \n",
      " 21  Sale_Dollars         float64\n",
      " 22  Volume_Sold_Liters   float64\n",
      " 23  Volume_Sold_Gallons  float64\n",
      " 24  Longitude            float64\n",
      " 25  Latitude             float64\n",
      " 26  Imports              int64  \n",
      " 27  Vodka                int64  \n",
      "dtypes: float64(10), int64(9), object(9)\n",
      "memory usage: 1.4+ GB\n"
     ]
    }
   ],
   "source": [
    "final_vodka_df.info()"
   ]
  },
  {
   "cell_type": "code",
   "execution_count": 6,
   "metadata": {},
   "outputs": [],
   "source": [
    "#export df to a tab separated text file\n",
    "#NOTE: amount of data is too large to fit into a .xlsx sheet\n",
    "final_vodka_df.to_csv('final_vodka_data.txt', sep='\\t', index=False)"
   ]
  }
 ],
 "metadata": {
  "kernelspec": {
   "display_name": "Python 3",
   "language": "python",
   "name": "python3"
  },
  "language_info": {
   "codemirror_mode": {
    "name": "ipython",
    "version": 3
   },
   "file_extension": ".py",
   "mimetype": "text/x-python",
   "name": "python",
   "nbconvert_exporter": "python",
   "pygments_lexer": "ipython3",
   "version": "3.10.12"
  }
 },
 "nbformat": 4,
 "nbformat_minor": 2
}
