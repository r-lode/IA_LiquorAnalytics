{
 "cells": [
  {
   "cell_type": "markdown",
   "metadata": {},
   "source": [
    "\n",
    "The primary purpose of this file is to handle the rows in the error dataset ('the_pile.csv') after cleaning done in data_preprocess_01.ipynb. This file contains 506825 entries (roughly 1.8% of the original data). "
   ]
  },
  {
   "cell_type": "code",
   "execution_count": 1,
   "metadata": {},
   "outputs": [],
   "source": [
    "import pandas as pd\n",
    "import matplotlib.pyplot as plt"
   ]
  },
  {
   "cell_type": "markdown",
   "metadata": {},
   "source": [
    "To begin, let's read in the in the csv file with rows containing missing values. We will also need to read in the liquor_stores data as well."
   ]
  },
  {
   "cell_type": "code",
   "execution_count": 2,
   "metadata": {},
   "outputs": [
    {
     "name": "stderr",
     "output_type": "stream",
     "text": [
      "/tmp/ipykernel_7441/3103210344.py:1: DtypeWarning: Columns (4,5,7,9,14) have mixed types. Specify dtype option on import or set low_memory=False.\n",
      "  the_pile = pd.read_csv('the_pile.csv')\n"
     ]
    }
   ],
   "source": [
    "the_pile = pd.read_csv('the_pile.csv')"
   ]
  },
  {
   "cell_type": "markdown",
   "metadata": {},
   "source": [
    "We als need to read in the liquor_stores data since that contains geodata that we could potentially fill in our missing data."
   ]
  },
  {
   "cell_type": "code",
   "execution_count": 3,
   "metadata": {},
   "outputs": [
    {
     "data": {
      "text/html": [
       "<div>\n",
       "<style scoped>\n",
       "    .dataframe tbody tr th:only-of-type {\n",
       "        vertical-align: middle;\n",
       "    }\n",
       "\n",
       "    .dataframe tbody tr th {\n",
       "        vertical-align: top;\n",
       "    }\n",
       "\n",
       "    .dataframe thead th {\n",
       "        text-align: right;\n",
       "    }\n",
       "</style>\n",
       "<table border=\"1\" class=\"dataframe\">\n",
       "  <thead>\n",
       "    <tr style=\"text-align: right;\">\n",
       "      <th></th>\n",
       "      <th>Store Number</th>\n",
       "      <th>Store Name</th>\n",
       "      <th>Address</th>\n",
       "      <th>City</th>\n",
       "      <th>State</th>\n",
       "      <th>Zip Code</th>\n",
       "      <th>Store Location</th>\n",
       "    </tr>\n",
       "  </thead>\n",
       "  <tbody>\n",
       "    <tr>\n",
       "      <th>0</th>\n",
       "      <td>10261</td>\n",
       "      <td>AVENUE G STORE / COUNCIL BLUFFS</td>\n",
       "      <td>1602 AVENUE G</td>\n",
       "      <td>COUNCIL BLUFFS</td>\n",
       "      <td>IA</td>\n",
       "      <td>51501</td>\n",
       "      <td>POINT (-95.868007008 41.268345002)</td>\n",
       "    </tr>\n",
       "    <tr>\n",
       "      <th>1</th>\n",
       "      <td>4191</td>\n",
       "      <td>FAREWAY STORES #995 / PELLA</td>\n",
       "      <td>2010 WASHINGTON ST</td>\n",
       "      <td>PELLA</td>\n",
       "      <td>IA</td>\n",
       "      <td>50219</td>\n",
       "      <td>POINT (-92.941820991 41.413265006)</td>\n",
       "    </tr>\n",
       "    <tr>\n",
       "      <th>2</th>\n",
       "      <td>5268</td>\n",
       "      <td>THE DEPOT ATKINS</td>\n",
       "      <td>188, PARKRIDGE RD</td>\n",
       "      <td>ATKINS</td>\n",
       "      <td>IA</td>\n",
       "      <td>52206</td>\n",
       "      <td>POINT (-91.862706026 41.992304983)</td>\n",
       "    </tr>\n",
       "    <tr>\n",
       "      <th>3</th>\n",
       "      <td>5929</td>\n",
       "      <td>D&amp;T'S / ODEBOLT</td>\n",
       "      <td>417 1ST ST</td>\n",
       "      <td>ODEBOLT</td>\n",
       "      <td>IA</td>\n",
       "      <td>51458</td>\n",
       "      <td>POINT (-95.255976028 42.313622014)</td>\n",
       "    </tr>\n",
       "    <tr>\n",
       "      <th>4</th>\n",
       "      <td>6150</td>\n",
       "      <td>THE DEPOT GILMAN</td>\n",
       "      <td>102 S. ELM ST.</td>\n",
       "      <td>GILMAN</td>\n",
       "      <td>IA</td>\n",
       "      <td>50106</td>\n",
       "      <td>POINT (-92.785956987 41.879548017)</td>\n",
       "    </tr>\n",
       "  </tbody>\n",
       "</table>\n",
       "</div>"
      ],
      "text/plain": [
       "   Store Number                       Store Name             Address  \\\n",
       "0         10261  AVENUE G STORE / COUNCIL BLUFFS       1602 AVENUE G   \n",
       "1          4191      FAREWAY STORES #995 / PELLA  2010 WASHINGTON ST   \n",
       "2          5268                 THE DEPOT ATKINS   188, PARKRIDGE RD   \n",
       "3          5929                  D&T'S / ODEBOLT          417 1ST ST   \n",
       "4          6150                 THE DEPOT GILMAN      102 S. ELM ST.   \n",
       "\n",
       "             City State  Zip Code                      Store Location  \n",
       "0  COUNCIL BLUFFS    IA     51501  POINT (-95.868007008 41.268345002)  \n",
       "1           PELLA    IA     50219  POINT (-92.941820991 41.413265006)  \n",
       "2          ATKINS    IA     52206  POINT (-91.862706026 41.992304983)  \n",
       "3         ODEBOLT    IA     51458  POINT (-95.255976028 42.313622014)  \n",
       "4          GILMAN    IA     50106  POINT (-92.785956987 41.879548017)  "
      ]
     },
     "execution_count": 3,
     "metadata": {},
     "output_type": "execute_result"
    }
   ],
   "source": [
    "liquor_stores = pd.read_csv('Iowa_Liquor_Stores.csv')\n",
    "liquor_stores = pd.read_csv('Iowa_Liquor_Stores.csv')\n",
    "liquor_stores = liquor_stores.drop(['Store Status', 'Report Date'], axis=1)\n",
    "liquor_stores.rename(columns={'Store Address': 'Store Location'}, inplace=True)\n",
    "liquor_stores.rename(columns={'Store': 'Store Number'}, inplace=True)\n",
    "liquor_stores.rename(columns={'Name': 'Store Name'}, inplace=True)\n",
    "liquor_stores.head()"
   ]
  },
  {
   "cell_type": "markdown",
   "metadata": {},
   "source": [
    "Let's first check to see which columns contain NA values. "
   ]
  },
  {
   "cell_type": "code",
   "execution_count": 4,
   "metadata": {},
   "outputs": [
    {
     "name": "stdout",
     "output_type": "stream",
     "text": [
      "Index(['Address', 'City', 'Zip Code', 'Store Location', 'County Number',\n",
      "       'County', 'Category', 'Category Name', 'Vendor Number', 'Vendor Name',\n",
      "       'State Bottle Cost', 'State Bottle Retail', 'Sale (Dollars)'],\n",
      "      dtype='object')\n"
     ]
    }
   ],
   "source": [
    "print(the_pile.columns[the_pile.isna().any()])"
   ]
  },
  {
   "cell_type": "markdown",
   "metadata": {},
   "source": [
    "It will be useful to see which rows contain only 1 NA value and no other NA values, so that we can focus our efforts. "
   ]
  },
  {
   "cell_type": "code",
   "execution_count": 5,
   "metadata": {},
   "outputs": [
    {
     "name": "stdout",
     "output_type": "stream",
     "text": [
      "Rows only missing Address:\n",
      "1\n",
      "Rows only missing City:\n",
      "0\n",
      "Rows only missing Store Location:\n",
      "366669\n",
      "Rows only missing Category Name:\n",
      "7169\n",
      "Rows only missing Sale Data:\n",
      "0\n"
     ]
    }
   ],
   "source": [
    "print('Rows only missing Address:')\n",
    "print(len(the_pile[the_pile['Address'].isnull() & the_pile.drop('Address', axis=1).notnull().all(axis=1)]))\n",
    "print('Rows only missing City:')\n",
    "print(len(the_pile[the_pile['City'].isnull() & the_pile.drop('City', axis=1).notnull().all(axis=1)]))\n",
    "print('Rows only missing Store Location:')\n",
    "print(len(the_pile[the_pile['Store Location'].isnull() & the_pile.drop('Store Location', axis=1).notnull().all(axis=1)]))\n",
    "print('Rows only missing Category Name:')\n",
    "print(len(the_pile[the_pile['Category Name'].isnull() & the_pile.drop('Category Name', axis=1).notnull().all(axis=1)]))\n",
    "print('Rows only missing Sale Data:')\n",
    "print(len(the_pile[the_pile['Sale (Dollars)'].isnull() & the_pile.drop('Sale (Dollars)', axis=1).notnull().all(axis=1)]))\n"
   ]
  },
  {
   "cell_type": "markdown",
   "metadata": {},
   "source": [
    "As we can see, the vast majority of rows missing only value 1 are only missing geodata. These rows also account for roughly 72% of our missing data and represent the exact set of geodata we were unable to fill in the first round of processing. Therefore, making progress here will be key. We will first separate those rows containing only na values in the 'Store Location' column like we did previously."
   ]
  },
  {
   "cell_type": "code",
   "execution_count": 6,
   "metadata": {},
   "outputs": [],
   "source": [
    "#separating rows with Na only in the store location column\n",
    "nan_location_df = the_pile[the_pile['Store Location'].isnull() & the_pile.drop('Store Location', axis=1).notnull().all(axis=1)]"
   ]
  },
  {
   "cell_type": "markdown",
   "metadata": {},
   "source": [
    "This block ensures the only missing column is 'Store Location' (i.e our separation was successfull.)"
   ]
  },
  {
   "cell_type": "code",
   "execution_count": 7,
   "metadata": {},
   "outputs": [
    {
     "name": "stdout",
     "output_type": "stream",
     "text": [
      "Index(['Store Location'], dtype='object')\n"
     ]
    }
   ],
   "source": [
    "print(nan_location_df.columns[nan_location_df.isna().any()])"
   ]
  },
  {
   "cell_type": "code",
   "execution_count": 8,
   "metadata": {},
   "outputs": [
    {
     "name": "stdout",
     "output_type": "stream",
     "text": [
      "366669\n"
     ]
    }
   ],
   "source": [
    "print(len(nan_location_df))"
   ]
  },
  {
   "cell_type": "markdown",
   "metadata": {},
   "source": [
    "Now, let's inspect this data further. If we collect the value counts of the Store Number and Address, we see several exact matches."
   ]
  },
  {
   "cell_type": "code",
   "execution_count": 9,
   "metadata": {},
   "outputs": [
    {
     "data": {
      "text/plain": [
       "Store Number\n",
       "2560    14140\n",
       "2502    13852\n",
       "2625    13583\n",
       "2500    12275\n",
       "2620    11731\n",
       "        ...  \n",
       "4775        1\n",
       "4602        1\n",
       "5671        1\n",
       "4560        1\n",
       "4609        1\n",
       "Name: count, Length: 479, dtype: int64"
      ]
     },
     "execution_count": 9,
     "metadata": {},
     "output_type": "execute_result"
    }
   ],
   "source": [
    "nan_location_df['Store Number'].value_counts()"
   ]
  },
  {
   "cell_type": "code",
   "execution_count": 10,
   "metadata": {},
   "outputs": [
    {
     "data": {
      "text/plain": [
       "Address\n",
       "3600 BUSINESS HWY 151 EAST    14140\n",
       "410 NORTH ANKENY BLVD         13852\n",
       "3301 W KIMBERLY RD            13583\n",
       "3800 W LINCOLN WAY            12275\n",
       "7101 UNIVERSITY AVE           11731\n",
       "                              ...  \n",
       "65, WILLIAMS BLVD                 1\n",
       "1995 SE UNIVERSITY                1\n",
       "101 E IA HWY 92                   1\n",
       "1807 EDGINGTON AVE                1\n",
       "5110 HWY 13 NORTH                 1\n",
       "Name: count, Length: 494, dtype: int64"
      ]
     },
     "execution_count": 10,
     "metadata": {},
     "output_type": "execute_result"
    }
   ],
   "source": [
    "nan_location_df['Address'].value_counts()"
   ]
  },
  {
   "cell_type": "markdown",
   "metadata": {},
   "source": [
    "To get an even more granular look, I decided to extract only the value counts from the Address and Store Numbers columns of this data. This data was then saved into separate csv files."
   ]
  },
  {
   "cell_type": "code",
   "execution_count": 11,
   "metadata": {},
   "outputs": [],
   "source": [
    "na_location_data = nan_location_df[['Address']].copy()\n",
    "\n",
    "nan_loc_data = na_location_data.value_counts()\n",
    "nan_loc_data.to_csv('address_of_missing_geodata.csv', sep= '\\t')"
   ]
  },
  {
   "cell_type": "code",
   "execution_count": 12,
   "metadata": {},
   "outputs": [],
   "source": [
    "na_store_num_data = nan_location_df[['Store Number']].copy()\n",
    "\n",
    "nan_store_data = na_store_num_data.value_counts()\n",
    "nan_store_data.to_csv('Store_Number_of_missing_geodata.csv', sep= '\\t')"
   ]
  },
  {
   "cell_type": "markdown",
   "metadata": {},
   "source": [
    "Here are the top 10 counts of 'Addresses' where Store Location is empty:\n",
    "\n",
    "Address\tcount\n",
    "3600 BUSINESS HWY 151 EAST\t14140 \\\n",
    "410 NORTH ANKENY BLVD\t13852 \\\n",
    "3301 W KIMBERLY RD\t13583 \\\n",
    "3800 W LINCOLN WAY\t12275 \\\n",
    "7101 UNIVERSITY AVE\t11731 \\\n",
    "3500 DODGE ST\t11055 \\\n",
    "2126 KIMBALL AVE\t10988 \\\n",
    "3221 SE 14TH ST\t10142 \\\n",
    "910 N JEFFERSON\t7801 "
   ]
  },
  {
   "cell_type": "markdown",
   "metadata": {},
   "source": [
    "And here are the top 10 the counts of the 'Store Number' where Store Location is Empty:\n",
    "\n",
    "2560\t14140 \\\n",
    "2502\t13852 \\\n",
    "2625\t13583 \\\n",
    "2500\t12275 \\\n",
    "2620\t11731 \\\n",
    "2524\t11055 \\\n",
    "2643\t10988 \\\n",
    "2528\t10142 \\\n",
    "2513\t8847 "
   ]
  },
  {
   "cell_type": "markdown",
   "metadata": {},
   "source": [
    "Given the exact value count correspondence of some of these Address-Store Number pairs, I have a suspicion that these correspond to the exact same place."
   ]
  },
  {
   "cell_type": "code",
   "execution_count": 13,
   "metadata": {},
   "outputs": [],
   "source": [
    "import glob\n",
    "\n",
    "#find files beginning with Iowa_Liquor_Data\n",
    "files_list = glob.glob('Iowa_Liquor_Data*.csv')\n",
    "\n",
    "#read in matching files into a dictionary\n",
    "data_frames = {file: pd.read_csv(file) for file in files_list}"
   ]
  },
  {
   "cell_type": "markdown",
   "metadata": {},
   "source": [
    "With this information, I will try a new tactic to identify which rows with missing geo data we can fill. \n",
    "\n",
    "1. I first create a dictionary to store Store Number sets. I also create counters that will increment whether it is possible to fill the missing geodata or not. A list is also created to identify rows with store numbers impossible to fill (they do not occur in the liquor_stores data).\n",
    "2. Then I iterate through every store number, located in our dataframe where missing values occur in the 'Store Location column.\n",
    "    - For every store number, 4 empty sets are created to store unique addresses, zip codes, cities, and counties.\n",
    "    - Then we check if the store number we are iterating through exists in the liquor_stores dataframe. If it does not, we increment the relevant counter, store the number in a list, and move on.\n",
    "    - If it does exist, we iterate through every year in our yearly dataframes, get all the addresses, zip codes, cities, and counties associated with that store number, then update those empty sets we created earlier.\n",
    "    - Those sets are then stored in a dictionary.\n",
    "    - Then those sets are used to create a row for each individual store number. For each row, each field will correspond to the comma separated set values. \n",
    "    - Those rows will then be assembled into a dataframe and ordered in descending order of their value counts.\n",
    "3. In the end, we have created a dataframe where we can easily inspect row elements to see whether each row has multiple addresses, zip codes, cities, or counties associated with it."
   ]
  },
  {
   "cell_type": "code",
   "execution_count": 14,
   "metadata": {},
   "outputs": [
    {
     "name": "stdout",
     "output_type": "stream",
     "text": [
      "Total fillable store numbers: 448\n",
      "Total unfillable store numbers: 31\n"
     ]
    }
   ],
   "source": [
    "#initialize dictionary to store 'Store Number' sets\n",
    "store_set_dict = {}\n",
    "\n",
    "#count store nums in liquor_stores data\n",
    "fillable_count = 0\n",
    "\n",
    "#count store nums not in liquor_stores data\n",
    "unfillable_count = 0\n",
    "#list to store store nums not in data\n",
    "unfillable_store_numbers = []\n",
    "\n",
    "\n",
    "#iterate through each store num in nan_location_df\n",
    "for store_number in nan_location_df['Store Number'].unique():\n",
    "\n",
    "    #initialize sets to store unique addresses, store names, zip codes, and unique cities for the current store number\n",
    "    unique_addresses = set()\n",
    "    unique_zip_codes = set()\n",
    "    unique_cities = set()\n",
    "    unique_counties = set()\n",
    "\n",
    "    if store_number in liquor_stores['Store Number'].values:\n",
    "        #print(f'store number: {store_number} detected in liquor data')\n",
    "        fillable_count +=1\n",
    "\n",
    " \n",
    "        \n",
    "        #iterate through dataframes by year\n",
    "        for year, df in data_frames.items():\n",
    "            #filter dataframe by store number \n",
    "            filtered_df = df[df['Store Number'] == store_number]\n",
    "            \n",
    "            #get column values corresponding to store number\n",
    "            filtered_addresses = filtered_df['Address']\n",
    "            filtered_zip_codes = filtered_df['Zip Code']\n",
    "            filtered_cities = filtered_df['City']\n",
    "            filtered_counties = filtered_df['County']\n",
    "\n",
    "            #update set to only keep unique values\n",
    "            unique_addresses.update(filtered_addresses)  \n",
    "            unique_zip_codes.update(filtered_zip_codes)  \n",
    "            unique_cities.update(filtered_cities)\n",
    "            unique_counties.update(filtered_counties)  \n",
    "    else:\n",
    "        #print(f'store number: {store_number} not detected in liquor data')\n",
    "        unfillable_count +=1\n",
    "        unfillable_store_numbers.append(store_number)\n",
    "     \n",
    "    #store the store number:unique val pairs in dictionary\n",
    "    store_set_dict[store_number] = {\n",
    "        'Unique Addresses': unique_addresses,\n",
    "        'Unique Zip Codes': unique_zip_codes,\n",
    "        'Unique Cities': unique_cities,\n",
    "        'Unique Counties': unique_counties\n",
    "    }\n",
    "\n",
    "\n",
    "#list to store rows for the final df\n",
    "rows = []\n",
    "\n",
    "#iteratively parse dictionary items to create rows for the final df\n",
    "for store_number, values in store_set_dict.items():\n",
    "    #combine unique values into comma-separated strings\n",
    "    combined_addresses = ', '.join(values['Unique Addresses'])\n",
    "    combined_zip_codes = ', '.join(map(str, values['Unique Zip Codes']))  #zip must be converted to string\n",
    "    combined_cities = ', '.join(values['Unique Cities'])\n",
    "    combined_counties = ', '.join(values['Unique Counties'])\n",
    "    \n",
    "    #append rows with store number values\n",
    "    rows.append({\n",
    "        'Store Number': store_number,\n",
    "        'Unique Addresses': combined_addresses,\n",
    "        'Unique Zip Codes': combined_zip_codes,\n",
    "        'Unique Cities': combined_cities,\n",
    "        'Unique Counties': combined_counties,\n",
    "    })\n",
    "\n",
    "#generate a final dataframe with results\n",
    "final_df_of_unique_vals = pd.DataFrame(rows)\n",
    "\n",
    "#get the value counts of 'Store Number' in nan_location_df and sort by frequency\n",
    "sorted_store_numbers = nan_location_df['Store Number'].value_counts().index\n",
    "\n",
    "#reorder the final_df based on frequencies\n",
    "final_df_of_unique_vals = final_df_of_unique_vals.set_index('Store Number').loc[sorted_store_numbers].reset_index()\n",
    "#remove entries corresponding to unfillable store numbers\n",
    "final_df_of_unique_vals = final_df_of_unique_vals[~final_df_of_unique_vals['Store Number'].isin(unfillable_store_numbers)]\n",
    "\n",
    "print(f'Total fillable store numbers: {fillable_count}')\n",
    "print(f'Total unfillable store numbers: {unfillable_count}')\n"
   ]
  },
  {
   "cell_type": "markdown",
   "metadata": {},
   "source": [
    "After running this we can see that several of the Store Numbers with missing data have only 1 Unique Address, Unique Zip Code, Unique City, and Unique County associated with them in the yearly data"
   ]
  },
  {
   "cell_type": "code",
   "execution_count": 15,
   "metadata": {},
   "outputs": [
    {
     "data": {
      "text/html": [
       "<div>\n",
       "<style scoped>\n",
       "    .dataframe tbody tr th:only-of-type {\n",
       "        vertical-align: middle;\n",
       "    }\n",
       "\n",
       "    .dataframe tbody tr th {\n",
       "        vertical-align: top;\n",
       "    }\n",
       "\n",
       "    .dataframe thead th {\n",
       "        text-align: right;\n",
       "    }\n",
       "</style>\n",
       "<table border=\"1\" class=\"dataframe\">\n",
       "  <thead>\n",
       "    <tr style=\"text-align: right;\">\n",
       "      <th></th>\n",
       "      <th>Store Number</th>\n",
       "      <th>Unique Addresses</th>\n",
       "      <th>Unique Zip Codes</th>\n",
       "      <th>Unique Cities</th>\n",
       "      <th>Unique Counties</th>\n",
       "    </tr>\n",
       "  </thead>\n",
       "  <tbody>\n",
       "    <tr>\n",
       "      <th>0</th>\n",
       "      <td>2560</td>\n",
       "      <td>3600 BUSINESS HWY 151 EAST</td>\n",
       "      <td>52302</td>\n",
       "      <td>MARION</td>\n",
       "      <td>LINN</td>\n",
       "    </tr>\n",
       "    <tr>\n",
       "      <th>1</th>\n",
       "      <td>2502</td>\n",
       "      <td>410 NORTH ANKENY BLVD</td>\n",
       "      <td>50021</td>\n",
       "      <td>ANKENY</td>\n",
       "      <td>POLK</td>\n",
       "    </tr>\n",
       "    <tr>\n",
       "      <th>2</th>\n",
       "      <td>2625</td>\n",
       "      <td>3301 W KIMBERLY RD</td>\n",
       "      <td>52804</td>\n",
       "      <td>DAVENPORT</td>\n",
       "      <td>SCOTT</td>\n",
       "    </tr>\n",
       "    <tr>\n",
       "      <th>3</th>\n",
       "      <td>2500</td>\n",
       "      <td>3800 W LINCOLN WAY</td>\n",
       "      <td>50010</td>\n",
       "      <td>AMES</td>\n",
       "      <td>STORY</td>\n",
       "    </tr>\n",
       "    <tr>\n",
       "      <th>4</th>\n",
       "      <td>2620</td>\n",
       "      <td>7101 UNIVERSITY AVE</td>\n",
       "      <td>50311</td>\n",
       "      <td>WINDSOR HEIGHTS</td>\n",
       "      <td>POLK</td>\n",
       "    </tr>\n",
       "    <tr>\n",
       "      <th>5</th>\n",
       "      <td>2524</td>\n",
       "      <td>3500 DODGE ST</td>\n",
       "      <td>52001</td>\n",
       "      <td>DUBUQUE</td>\n",
       "      <td>DUBUQUE</td>\n",
       "    </tr>\n",
       "    <tr>\n",
       "      <th>6</th>\n",
       "      <td>2643</td>\n",
       "      <td>2126 KIMBALL AVE</td>\n",
       "      <td>50701</td>\n",
       "      <td>WATERLOO</td>\n",
       "      <td>BLACK HAWK</td>\n",
       "    </tr>\n",
       "    <tr>\n",
       "      <th>7</th>\n",
       "      <td>2528</td>\n",
       "      <td>3221 SE 14TH ST</td>\n",
       "      <td>50315</td>\n",
       "      <td>DES MOINES</td>\n",
       "      <td>POLK</td>\n",
       "    </tr>\n",
       "    <tr>\n",
       "      <th>8</th>\n",
       "      <td>2513</td>\n",
       "      <td>812 S 1ST AVE, 812  S 1ST AVE</td>\n",
       "      <td>52240</td>\n",
       "      <td>IOWA CITY</td>\n",
       "      <td>JOHNSON</td>\n",
       "    </tr>\n",
       "    <tr>\n",
       "      <th>9</th>\n",
       "      <td>2549</td>\n",
       "      <td>910 N JEFFERSON</td>\n",
       "      <td>50125</td>\n",
       "      <td>INDIANOLA</td>\n",
       "      <td>WARREN</td>\n",
       "    </tr>\n",
       "  </tbody>\n",
       "</table>\n",
       "</div>"
      ],
      "text/plain": [
       "   Store Number               Unique Addresses Unique Zip Codes  \\\n",
       "0          2560     3600 BUSINESS HWY 151 EAST            52302   \n",
       "1          2502          410 NORTH ANKENY BLVD            50021   \n",
       "2          2625             3301 W KIMBERLY RD            52804   \n",
       "3          2500             3800 W LINCOLN WAY            50010   \n",
       "4          2620            7101 UNIVERSITY AVE            50311   \n",
       "5          2524                  3500 DODGE ST            52001   \n",
       "6          2643               2126 KIMBALL AVE            50701   \n",
       "7          2528                3221 SE 14TH ST            50315   \n",
       "8          2513  812 S 1ST AVE, 812  S 1ST AVE            52240   \n",
       "9          2549                910 N JEFFERSON            50125   \n",
       "\n",
       "     Unique Cities Unique Counties  \n",
       "0           MARION            LINN  \n",
       "1           ANKENY            POLK  \n",
       "2        DAVENPORT           SCOTT  \n",
       "3             AMES           STORY  \n",
       "4  WINDSOR HEIGHTS            POLK  \n",
       "5          DUBUQUE         DUBUQUE  \n",
       "6         WATERLOO      BLACK HAWK  \n",
       "7       DES MOINES            POLK  \n",
       "8        IOWA CITY         JOHNSON  \n",
       "9        INDIANOLA          WARREN  "
      ]
     },
     "execution_count": 15,
     "metadata": {},
     "output_type": "execute_result"
    }
   ],
   "source": [
    "final_df_of_unique_vals.head(10)"
   ]
  },
  {
   "cell_type": "code",
   "execution_count": 16,
   "metadata": {},
   "outputs": [],
   "source": [
    "#grab address column from liquor_stores for comparison \n",
    "final_df_of_unique_vals = final_df_of_unique_vals.merge(liquor_stores[['Store Number', 'Address']], on='Store Number', how='left')"
   ]
  },
  {
   "cell_type": "code",
   "execution_count": 17,
   "metadata": {},
   "outputs": [],
   "source": [
    "#rename address column for clarity\n",
    "final_df_of_unique_vals.rename(columns={'Address': 'liquor_stores_address'}, inplace=True)"
   ]
  },
  {
   "cell_type": "code",
   "execution_count": 18,
   "metadata": {},
   "outputs": [
    {
     "data": {
      "text/html": [
       "<div>\n",
       "<style scoped>\n",
       "    .dataframe tbody tr th:only-of-type {\n",
       "        vertical-align: middle;\n",
       "    }\n",
       "\n",
       "    .dataframe tbody tr th {\n",
       "        vertical-align: top;\n",
       "    }\n",
       "\n",
       "    .dataframe thead th {\n",
       "        text-align: right;\n",
       "    }\n",
       "</style>\n",
       "<table border=\"1\" class=\"dataframe\">\n",
       "  <thead>\n",
       "    <tr style=\"text-align: right;\">\n",
       "      <th></th>\n",
       "      <th>Store Number</th>\n",
       "      <th>Unique Addresses</th>\n",
       "      <th>Unique Zip Codes</th>\n",
       "      <th>Unique Cities</th>\n",
       "      <th>Unique Counties</th>\n",
       "      <th>liquor_stores_address</th>\n",
       "    </tr>\n",
       "  </thead>\n",
       "  <tbody>\n",
       "    <tr>\n",
       "      <th>0</th>\n",
       "      <td>2560</td>\n",
       "      <td>3600 BUSINESS HWY 151 EAST</td>\n",
       "      <td>52302</td>\n",
       "      <td>MARION</td>\n",
       "      <td>LINN</td>\n",
       "      <td>3600 BUSINESS HWY 151 EAST</td>\n",
       "    </tr>\n",
       "    <tr>\n",
       "      <th>1</th>\n",
       "      <td>2502</td>\n",
       "      <td>410 NORTH ANKENY BLVD</td>\n",
       "      <td>50021</td>\n",
       "      <td>ANKENY</td>\n",
       "      <td>POLK</td>\n",
       "      <td>410 NORTH ANKENY BLVD</td>\n",
       "    </tr>\n",
       "    <tr>\n",
       "      <th>2</th>\n",
       "      <td>2625</td>\n",
       "      <td>3301 W KIMBERLY RD</td>\n",
       "      <td>52804</td>\n",
       "      <td>DAVENPORT</td>\n",
       "      <td>SCOTT</td>\n",
       "      <td>3301 W KIMBERLY RD</td>\n",
       "    </tr>\n",
       "    <tr>\n",
       "      <th>3</th>\n",
       "      <td>2500</td>\n",
       "      <td>3800 W LINCOLN WAY</td>\n",
       "      <td>50010</td>\n",
       "      <td>AMES</td>\n",
       "      <td>STORY</td>\n",
       "      <td>3800 W LINCOLN WAY</td>\n",
       "    </tr>\n",
       "    <tr>\n",
       "      <th>4</th>\n",
       "      <td>2620</td>\n",
       "      <td>7101 UNIVERSITY AVE</td>\n",
       "      <td>50311</td>\n",
       "      <td>WINDSOR HEIGHTS</td>\n",
       "      <td>POLK</td>\n",
       "      <td>7101 UNIVERSITY AVE</td>\n",
       "    </tr>\n",
       "    <tr>\n",
       "      <th>5</th>\n",
       "      <td>2524</td>\n",
       "      <td>3500 DODGE ST</td>\n",
       "      <td>52001</td>\n",
       "      <td>DUBUQUE</td>\n",
       "      <td>DUBUQUE</td>\n",
       "      <td>3500 DODGE ST</td>\n",
       "    </tr>\n",
       "    <tr>\n",
       "      <th>6</th>\n",
       "      <td>2643</td>\n",
       "      <td>2126 KIMBALL AVE</td>\n",
       "      <td>50701</td>\n",
       "      <td>WATERLOO</td>\n",
       "      <td>BLACK HAWK</td>\n",
       "      <td>2126 KIMBALL AVE</td>\n",
       "    </tr>\n",
       "    <tr>\n",
       "      <th>7</th>\n",
       "      <td>2528</td>\n",
       "      <td>3221 SE 14TH ST</td>\n",
       "      <td>50315</td>\n",
       "      <td>DES MOINES</td>\n",
       "      <td>POLK</td>\n",
       "      <td>3221 SE 14TH ST</td>\n",
       "    </tr>\n",
       "    <tr>\n",
       "      <th>8</th>\n",
       "      <td>2513</td>\n",
       "      <td>812 S 1ST AVE, 812  S 1ST AVE</td>\n",
       "      <td>52240</td>\n",
       "      <td>IOWA CITY</td>\n",
       "      <td>JOHNSON</td>\n",
       "      <td>812 S 1ST AVE</td>\n",
       "    </tr>\n",
       "    <tr>\n",
       "      <th>9</th>\n",
       "      <td>2549</td>\n",
       "      <td>910 N JEFFERSON</td>\n",
       "      <td>50125</td>\n",
       "      <td>INDIANOLA</td>\n",
       "      <td>WARREN</td>\n",
       "      <td>910 N JEFFERSON</td>\n",
       "    </tr>\n",
       "  </tbody>\n",
       "</table>\n",
       "</div>"
      ],
      "text/plain": [
       "   Store Number               Unique Addresses Unique Zip Codes  \\\n",
       "0          2560     3600 BUSINESS HWY 151 EAST            52302   \n",
       "1          2502          410 NORTH ANKENY BLVD            50021   \n",
       "2          2625             3301 W KIMBERLY RD            52804   \n",
       "3          2500             3800 W LINCOLN WAY            50010   \n",
       "4          2620            7101 UNIVERSITY AVE            50311   \n",
       "5          2524                  3500 DODGE ST            52001   \n",
       "6          2643               2126 KIMBALL AVE            50701   \n",
       "7          2528                3221 SE 14TH ST            50315   \n",
       "8          2513  812 S 1ST AVE, 812  S 1ST AVE            52240   \n",
       "9          2549                910 N JEFFERSON            50125   \n",
       "\n",
       "     Unique Cities Unique Counties       liquor_stores_address  \n",
       "0           MARION            LINN  3600 BUSINESS HWY 151 EAST  \n",
       "1           ANKENY            POLK       410 NORTH ANKENY BLVD  \n",
       "2        DAVENPORT           SCOTT          3301 W KIMBERLY RD  \n",
       "3             AMES           STORY          3800 W LINCOLN WAY  \n",
       "4  WINDSOR HEIGHTS            POLK         7101 UNIVERSITY AVE  \n",
       "5          DUBUQUE         DUBUQUE               3500 DODGE ST  \n",
       "6         WATERLOO      BLACK HAWK            2126 KIMBALL AVE  \n",
       "7       DES MOINES            POLK             3221 SE 14TH ST  \n",
       "8        IOWA CITY         JOHNSON               812 S 1ST AVE  \n",
       "9        INDIANOLA          WARREN             910 N JEFFERSON  "
      ]
     },
     "execution_count": 18,
     "metadata": {},
     "output_type": "execute_result"
    }
   ],
   "source": [
    "final_df_of_unique_vals.head(10)"
   ]
  },
  {
   "cell_type": "markdown",
   "metadata": {},
   "source": [
    "Before we forget, let's also remove the rows in our previous dataset where there isn't an associated store_number in liquor_stores."
   ]
  },
  {
   "cell_type": "code",
   "execution_count": 19,
   "metadata": {},
   "outputs": [],
   "source": [
    "#We have to remove rows that don't have a corresponding store number in liquor_stores\n",
    "nan_location_df = nan_location_df[~nan_location_df['Store Number'].isin(unfillable_store_numbers)]"
   ]
  },
  {
   "cell_type": "markdown",
   "metadata": {},
   "source": [
    "Returning to the previous code, we have a dataframe that we can inspect manually to identify potential issues. "
   ]
  },
  {
   "cell_type": "markdown",
   "metadata": {},
   "source": [
    "One important note is that there are diminishing returns in the sums of missing values for every store number we fix, as demonstrated in the following visualization."
   ]
  },
  {
   "cell_type": "code",
   "execution_count": 20,
   "metadata": {},
   "outputs": [
    {
     "data": {
      "image/png": "[encoded data removed]",
      "text/plain": [
       "<Figure size 1200x600 with 1 Axes>"
      ]
     },
     "metadata": {},
     "output_type": "display_data"
    }
   ],
   "source": [
    "\n",
    "#variable to define the maximum number of top occurrences to consider\n",
    "top_X_sums_to_calc = 50 \n",
    "\n",
    "#initialize lists to store top X value counts and their cumulative sums\n",
    "top_X_values = []\n",
    "cumulative_sums = []\n",
    "\n",
    "#loop calculate cumulative sums for different top X values\n",
    "for num in range(1, top_X_sums_to_calc + 1):\n",
    "    #get the value counts of store number column\n",
    "    store_number_val_counts = nan_location_df['Store Number'].value_counts()\n",
    "    \n",
    "    #get the sum of the top X occurrences\n",
    "    sum_top_X = store_number_val_counts.head(num).sum()\n",
    "    \n",
    "    #append top X and its cumulative sum to the lists\n",
    "    top_X_values.append(num)\n",
    "    cumulative_sums.append(sum_top_X)\n",
    "\n",
    "#plot line chart for cummulative sums\n",
    "plt.figure(figsize=(12, 6))\n",
    "plt.plot(top_X_values, cumulative_sums, marker='o', linestyle='-', color='b')\n",
    "plt.xlabel('Top X Values')\n",
    "plt.ylabel('Sum of Store Number value counts')\n",
    "plt.title('Cumulative Sum of Value Counts of Top 50 Store Numbers')\n",
    "\n",
    "# Set X-axis ticks and labels\n",
    "plt.xticks(range(1, top_X_sums_to_calc + 1))\n",
    "\n",
    "# Show the plot\n",
    "plt.tight_layout()\n",
    "plt.show()"
   ]
  },
  {
   "cell_type": "code",
   "execution_count": 21,
   "metadata": {},
   "outputs": [
    {
     "name": "stdout",
     "output_type": "stream",
     "text": [
      "Sum of values counts top 50 occurrences: 248428\n",
      "This corresponds to 49.016524441375225% of the remaining missing values. \n"
     ]
    }
   ],
   "source": [
    "#define the number of top occurrences to consider\n",
    "top_X = 50\n",
    "\n",
    "#get value counts of Store Number columns and sum them\n",
    "store_num_val_counts = nan_location_df['Store Number'].value_counts()\n",
    "sum_top_X = store_num_val_counts.head(top_X).sum()\n",
    "\n",
    "print(f\"Sum of values counts top {top_X} occurrences: {sum_top_X}\")\n",
    "print(f\"This corresponds to {sum_top_X/len(the_pile) * 100}% of the remaining missing values. \")\n",
    "\n",
    "top_store_nums = nan_location_df['Store Number'].value_counts().head(top_X).index\n",
    "\n",
    "# Filtering nan_location_df to keep rows where the address appears in the top X\n",
    "nan_location_df = nan_location_df[nan_location_df['Store Number'].isin(top_store_nums)]\n",
    "\n",
    "\n",
    "#filter df to keep rows with store numbers in the top 50\n",
    "filtered_final_df = final_df_of_unique_vals[final_df_of_unique_vals['Store Number'].isin(top_store_nums)]"
   ]
  },
  {
   "cell_type": "markdown",
   "metadata": {},
   "source": [
    "What's more is that the the number of distinct store numbers with missing geodata is 448, and since I am going to be manually inspecting these store numbers for discrepancies, that would take an innordiate amount of time. Therefore, we will limit our focus to fixing counts in the top 50."
   ]
  },
  {
   "cell_type": "markdown",
   "metadata": {},
   "source": [
    "Let's go ahead and grab those rows from final_df for one more round of processing"
   ]
  },
  {
   "cell_type": "code",
   "execution_count": 22,
   "metadata": {},
   "outputs": [],
   "source": [
    "filtered_final_df.to_csv('filtered_location_na.csv', sep = '\\t')"
   ]
  },
  {
   "cell_type": "markdown",
   "metadata": {},
   "source": [
    "After visual inspection, there are only a handful that may be problematic. Here are those entries:\n",
    "\n",
    "| Store Number | Unique Addresses                                     | Unique Zip Codes | Unique Cities | Unique Counties | liquor_stores_address    |\n",
    "|--------------|------------------------------------------------------|------------------|---------------|----------------|--------------------------|\n",
    "| 2535         | 1700 VALLEY WEST DR., 1700 VALLEY WEST DR           | 50265, 50266     | WEST DES MOINES| POLK           | 1700 VALLEY WEST DR.    |\n",
    "| 2522         | HWY 9 & 71, 1902 PEORIA AVE, 1902 PEORIA AVENUE     | 51360            | SPIRIT LAKE   | DICKINSON      | 1902 PEORIA AVENUE      |\n",
    "| 2539         | HIGHWAY 65 SOUTH, 640 S. OAK                        | 50126            | IOWA FALLS    | HARDIN         | 640 S. OAK              |\n",
    "| 2556         | 1221 E CENTRAL AVENUE, 2608 E. CENTRAL AVENUE, 1033 CENTRAL AVENUE | 51334    | ESTHERVILLE   | EMMET          | 1221 E CENTRAL AVENUE   |\n",
    "| 4638         | 4607 N PINE ST                                      | 52804, 52806     | DAVENPORT     | SCOTT          | 4607 N PINE ST          |\n",
    "| 4084         | 3205 NORTH ANKENY BLVD                              | 50021, 50023     | ANKENY        | POLK           | 3205 NORTH ANKENY BLVD   |\n",
    "\n",
    "\n",
    "\n",
    "\n"
   ]
  },
  {
   "cell_type": "markdown",
   "metadata": {},
   "source": [
    "These rows either have a multiple zip codes or multiple addresses. Hence we cannot guaruntee accuracy when using the data in liquor_stores.\n",
    "\n",
    "NOTE: There is an issue where the rows with Store Number = 3762 as that geodata does not appear to be filled when collecting in files for the next round of processing. A commented out code block in data_preprocess_03 shows this error was caught. In the interest of time, those rows will simply not be added for now."
   ]
  },
  {
   "cell_type": "code",
   "execution_count": 23,
   "metadata": {},
   "outputs": [],
   "source": [
    "store_numbers_to_remove = [2535, 2522, 2539, 2556, 4638, 4084, 3762]\n",
    "\n",
    "#remove rows with specified store numbers\n",
    "nan_location_df = nan_location_df[~nan_location_df['Store Number'].isin(store_numbers_to_remove)]\n"
   ]
  },
  {
   "cell_type": "code",
   "execution_count": 24,
   "metadata": {},
   "outputs": [
    {
     "data": {
      "text/plain": [
       "224789"
      ]
     },
     "execution_count": 24,
     "metadata": {},
     "output_type": "execute_result"
    }
   ],
   "source": [
    "len(nan_location_df)"
   ]
  },
  {
   "cell_type": "markdown",
   "metadata": {},
   "source": [
    "With those rows removed, we can feel relatively safe filling in the missing geodata from liquor_stores."
   ]
  },
  {
   "cell_type": "code",
   "execution_count": 25,
   "metadata": {},
   "outputs": [],
   "source": [
    "#merge store location information from liquor_stores into nan_location_df\n",
    "nan_location_df = nan_location_df.merge(liquor_stores[['Store Number', 'Store Location']], on='Store Number', how='left')\n",
    "nan_location_df.drop(columns='Unnamed: 0', inplace=True)\n",
    "\n",
    "#replace values in 'Store Location_x' with values in 'Store Location_y'\n",
    "nan_location_df['Store Location_x'] = nan_location_df['Store Location_y']\n",
    "\n",
    "#drop 'Store Location_y' column\n",
    "nan_location_df.drop(columns='Store Location_y', inplace=True)\n",
    "\n",
    "#rename column\n",
    "nan_location_df.rename(columns={'Store Location_x': 'Store Location'}, inplace=True)"
   ]
  },
  {
   "cell_type": "code",
   "execution_count": 26,
   "metadata": {},
   "outputs": [
    {
     "name": "stdout",
     "output_type": "stream",
     "text": [
      "<class 'pandas.core.frame.DataFrame'>\n",
      "RangeIndex: 224789 entries, 0 to 224788\n",
      "Data columns (total 23 columns):\n",
      " #   Column                 Non-Null Count   Dtype  \n",
      "---  ------                 --------------   -----  \n",
      " 0   Date                   224789 non-null  object \n",
      " 1   Store Number           224789 non-null  int64  \n",
      " 2   Store Name             224789 non-null  object \n",
      " 3   Address                224789 non-null  object \n",
      " 4   City                   224789 non-null  object \n",
      " 5   Zip Code               224789 non-null  float64\n",
      " 6   Store Location         224789 non-null  object \n",
      " 7   County Number          224789 non-null  float64\n",
      " 8   County                 224789 non-null  object \n",
      " 9   Category               224789 non-null  float64\n",
      " 10  Category Name          224789 non-null  object \n",
      " 11  Vendor Number          224789 non-null  float64\n",
      " 12  Vendor Name            224789 non-null  object \n",
      " 13  Item Number            224789 non-null  object \n",
      " 14  Item Description       224789 non-null  object \n",
      " 15  Pack                   224789 non-null  int64  \n",
      " 16  Bottle Volume (ml)     224789 non-null  int64  \n",
      " 17  State Bottle Cost      224789 non-null  float64\n",
      " 18  State Bottle Retail    224789 non-null  float64\n",
      " 19  Bottles Sold           224789 non-null  int64  \n",
      " 20  Sale (Dollars)         224789 non-null  float64\n",
      " 21  Volume Sold (Liters)   224789 non-null  float64\n",
      " 22  Volume Sold (Gallons)  224789 non-null  float64\n",
      "dtypes: float64(9), int64(4), object(10)\n",
      "memory usage: 39.4+ MB\n"
     ]
    }
   ],
   "source": [
    "nan_location_df.info()"
   ]
  },
  {
   "cell_type": "code",
   "execution_count": 27,
   "metadata": {},
   "outputs": [
    {
     "name": "stdout",
     "output_type": "stream",
     "text": [
      "<class 'pandas.core.frame.DataFrame'>\n",
      "RangeIndex: 224789 entries, 0 to 224788\n",
      "Data columns (total 23 columns):\n",
      " #   Column                 Non-Null Count   Dtype  \n",
      "---  ------                 --------------   -----  \n",
      " 0   Date                   224789 non-null  object \n",
      " 1   Store Number           224789 non-null  int64  \n",
      " 2   Store Name             224789 non-null  object \n",
      " 3   Address                224789 non-null  object \n",
      " 4   City                   224789 non-null  object \n",
      " 5   Zip Code               224789 non-null  float64\n",
      " 6   Store Location         224789 non-null  object \n",
      " 7   County Number          224789 non-null  float64\n",
      " 8   County                 224789 non-null  object \n",
      " 9   Category               224789 non-null  float64\n",
      " 10  Category Name          224789 non-null  object \n",
      " 11  Vendor Number          224789 non-null  float64\n",
      " 12  Vendor Name            224789 non-null  object \n",
      " 13  Item Number            224789 non-null  object \n",
      " 14  Item Description       224789 non-null  object \n",
      " 15  Pack                   224789 non-null  int64  \n",
      " 16  Bottle Volume (ml)     224789 non-null  int64  \n",
      " 17  State Bottle Cost      224789 non-null  float64\n",
      " 18  State Bottle Retail    224789 non-null  float64\n",
      " 19  Bottles Sold           224789 non-null  int64  \n",
      " 20  Sale (Dollars)         224789 non-null  float64\n",
      " 21  Volume Sold (Liters)   224789 non-null  float64\n",
      " 22  Volume Sold (Gallons)  224789 non-null  float64\n",
      "dtypes: float64(9), int64(4), object(10)\n",
      "memory usage: 39.4+ MB\n"
     ]
    }
   ],
   "source": [
    "nan_location_df.info()"
   ]
  },
  {
   "cell_type": "markdown",
   "metadata": {},
   "source": [
    "Before we merge the location data we filled, there is a slight problem. Simply converting the 'Date' column in both the original, clean datasets, and the nan_location_df and merging them together results in mixed date datatypes. We do NOT want this so we need to preprocess both. We also need to conver the 'Date' column into a format suitable to populate a SQL database with. "
   ]
  },
  {
   "cell_type": "code",
   "execution_count": 28,
   "metadata": {},
   "outputs": [
    {
     "name": "stdout",
     "output_type": "stream",
     "text": [
      "Processing Iowa_Liquor_Data_2018.csv...\n",
      "Conversion successful in Iowa_Liquor_Data_2018.csv\n",
      "Processing Iowa_Liquor_Data_2016.csv...\n",
      "Conversion successful in Iowa_Liquor_Data_2016.csv\n",
      "Processing Iowa_Liquor_Data_2022.csv...\n",
      "Conversion successful in Iowa_Liquor_Data_2022.csv\n",
      "Processing Iowa_Liquor_Data_2014.csv...\n",
      "Conversion successful in Iowa_Liquor_Data_2014.csv\n",
      "Processing Iowa_Liquor_Data_2012.csv...\n",
      "Conversion successful in Iowa_Liquor_Data_2012.csv\n",
      "Processing Iowa_Liquor_Data_2017.csv...\n",
      "Conversion successful in Iowa_Liquor_Data_2017.csv\n",
      "Processing Iowa_Liquor_Data_2019.csv...\n",
      "Conversion successful in Iowa_Liquor_Data_2019.csv\n",
      "Processing Iowa_Liquor_Data_2020.csv...\n",
      "Conversion successful in Iowa_Liquor_Data_2020.csv\n",
      "Processing Iowa_Liquor_Data_2013.csv...\n",
      "Conversion successful in Iowa_Liquor_Data_2013.csv\n",
      "Processing Iowa_Liquor_Data_2021.csv...\n",
      "Conversion successful in Iowa_Liquor_Data_2021.csv\n",
      "Processing Iowa_Liquor_Data_2015.csv...\n",
      "Conversion successful in Iowa_Liquor_Data_2015.csv\n",
      "Processing Iowa_Liquor_Data_2023.csv...\n",
      "Conversion successful in Iowa_Liquor_Data_2023.csv\n",
      "DataFrame: Iowa_Liquor_Data_2018.csv\n",
      "object\n",
      "DataFrame: Iowa_Liquor_Data_2016.csv\n",
      "object\n",
      "DataFrame: Iowa_Liquor_Data_2022.csv\n",
      "object\n",
      "DataFrame: Iowa_Liquor_Data_2014.csv\n",
      "object\n",
      "DataFrame: Iowa_Liquor_Data_2012.csv\n",
      "object\n",
      "DataFrame: Iowa_Liquor_Data_2017.csv\n",
      "object\n",
      "DataFrame: Iowa_Liquor_Data_2019.csv\n",
      "object\n",
      "DataFrame: Iowa_Liquor_Data_2020.csv\n",
      "object\n",
      "DataFrame: Iowa_Liquor_Data_2013.csv\n",
      "object\n",
      "DataFrame: Iowa_Liquor_Data_2021.csv\n",
      "object\n",
      "DataFrame: Iowa_Liquor_Data_2015.csv\n",
      "object\n",
      "DataFrame: Iowa_Liquor_Data_2023.csv\n",
      "object\n"
     ]
    }
   ],
   "source": [
    "for name, df in data_frames.items():\n",
    "    print(f\"Processing {name}...\")\n",
    "    \n",
    "    #attempt to convert date column to date type\n",
    "    try:\n",
    "        #NOTE errors = 'coerce' seems to be crucial here\n",
    "        #Converting to datetime is required before the converting to SQL friendly format\n",
    "        df['Date'] = pd.to_datetime(df['Date'], errors='coerce')\n",
    "        df['Date'] = df['Date'].dt.strftime('%Y-%m-%d') #SQL friendly format\n",
    "        print(f\"Conversion successful in {name}\")\n",
    "    except ValueError as e:\n",
    "        print(f\"Error converting 'Date' column in {name}: {e}\")\n",
    " \n",
    "\n",
    "#checking the data column types after conversion attempt\n",
    "for name, df in data_frames.items():\n",
    "    print(f\"DataFrame: {name}\")\n",
    "    print(df['Date'].dtypes)"
   ]
  },
  {
   "cell_type": "markdown",
   "metadata": {},
   "source": [
    "In order to merge the nan_location_df with the clean datasets, we have to get the indicies corresponding to each year, prior to merging. Then we convert to a SQL friendly format and merge the datasets using the gathered indicies."
   ]
  },
  {
   "cell_type": "code",
   "execution_count": 29,
   "metadata": {},
   "outputs": [],
   "source": [
    "#convert to datetime in order to gather yearly indicies\n",
    "nan_location_df['Date'] = pd.to_datetime(nan_location_df['Date'], errors='coerce')\n",
    "#store indices corresponding to each year before merging\n",
    "indices_by_year = {}\n",
    "for year in nan_location_df['Date'].dt.year.unique():\n",
    "    indices_by_year[year] = nan_location_df[nan_location_df['Date'].dt.year == year].index\n",
    "\n",
    "#convert date column to SQL friendly format\n",
    "nan_location_df['Date'] = nan_location_df['Date'].dt.strftime('%Y-%m-%d')"
   ]
  },
  {
   "cell_type": "code",
   "execution_count": 30,
   "metadata": {},
   "outputs": [
    {
     "name": "stdout",
     "output_type": "stream",
     "text": [
      "Concatenated data for 2018 into V2_Iowa_Liquor_Data_2018.csv\n",
      "Length of original file Iowa_Liquor_Data_2018.csv: 2340661 | Length of concatenated file V2_Iowa_Liquor_Data_2018.csv: 2347898\n",
      "Concatenated data for 2016 into V2_Iowa_Liquor_Data_2016.csv\n",
      "Length of original file Iowa_Liquor_Data_2016.csv: 2185028 | Length of concatenated file V2_Iowa_Liquor_Data_2016.csv: 2198370\n",
      "Concatenated data for 2022 into V2_Iowa_Liquor_Data_2022.csv\n",
      "Length of original file Iowa_Liquor_Data_2022.csv: 2397957 | Length of concatenated file V2_Iowa_Liquor_Data_2022.csv: 2497938\n",
      "Concatenated data for 2014 into V2_Iowa_Liquor_Data_2014.csv\n",
      "Length of original file Iowa_Liquor_Data_2014.csv: 2075143 | Length of concatenated file V2_Iowa_Liquor_Data_2014.csv: 2089735\n",
      "Concatenated data for 2012 into V2_Iowa_Liquor_Data_2012.csv\n",
      "Length of original file Iowa_Liquor_Data_2012.csv: 2041722 | Length of concatenated file V2_Iowa_Liquor_Data_2012.csv: 2065648\n",
      "Concatenated data for 2017 into V2_Iowa_Liquor_Data_2017.csv\n",
      "Length of original file Iowa_Liquor_Data_2017.csv: 2228494 | Length of concatenated file V2_Iowa_Liquor_Data_2017.csv: 2238868\n",
      "Concatenated data for 2019 into V2_Iowa_Liquor_Data_2019.csv\n",
      "Length of original file Iowa_Liquor_Data_2019.csv: 2363351 | Length of concatenated file V2_Iowa_Liquor_Data_2019.csv: 2369668\n",
      "Concatenated data for 2020 into V2_Iowa_Liquor_Data_2020.csv\n",
      "Length of original file Iowa_Liquor_Data_2020.csv: 2604466 | Length of concatenated file V2_Iowa_Liquor_Data_2020.csv: 2610324\n",
      "Concatenated data for 2013 into V2_Iowa_Liquor_Data_2013.csv\n",
      "Length of original file Iowa_Liquor_Data_2013.csv: 2032977 | Length of concatenated file V2_Iowa_Liquor_Data_2013.csv: 2052103\n",
      "Concatenated data for 2021 into V2_Iowa_Liquor_Data_2021.csv\n",
      "Length of original file Iowa_Liquor_Data_2021.csv: 2615041 | Length of concatenated file V2_Iowa_Liquor_Data_2021.csv: 2619043\n",
      "Concatenated data for 2015 into V2_Iowa_Liquor_Data_2015.csv\n",
      "Length of original file Iowa_Liquor_Data_2015.csv: 2162691 | Length of concatenated file V2_Iowa_Liquor_Data_2015.csv: 2176395\n",
      "Concatenated data for 2023 into V2_Iowa_Liquor_Data_2023.csv\n",
      "Length of original file Iowa_Liquor_Data_2023.csv: 1935385 | Length of concatenated file V2_Iowa_Liquor_Data_2023.csv: 1941715\n"
     ]
    }
   ],
   "source": [
    "#iterate through data_frames dictionary\n",
    "for file, df in data_frames.items():\n",
    "    #get year from file naem\n",
    "    year = int(file.split('_')[-1].split('.')[0])\n",
    "    \n",
    "    #retrieve indicies for year in nan_location_df\n",
    "    relevant_indices = indices_by_year.get(year, [])\n",
    "    \n",
    "    #retrieve indicies corresponding to yearly data\n",
    "    nan_location_yearly = nan_location_df.loc[relevant_indices]\n",
    "\n",
    "    #merge relevant yearly data together\n",
    "    concatenated_df = pd.concat([df, nan_location_yearly], ignore_index=True)\n",
    "    \n",
    "    #output to a new CSV file\n",
    "    new_file_name = f\"V2_{file}\"\n",
    "    concatenated_df.to_csv(new_file_name, index=False)\n",
    "    \n",
    "    print(f\"Concatenated data for {year} into {new_file_name}\")\n",
    "    print(f\"Length of original file {file}: {len(df)} | Length of concatenated file {new_file_name}: {len(concatenated_df)}\")"
   ]
  },
  {
   "cell_type": "markdown",
   "metadata": {},
   "source": [
    "With that done, the remaining NA values account for approximately 1.03% of the total data. If time allows, I will revist the NA values, but for the time being I will forge ahead"
   ]
  },
  {
   "cell_type": "code",
   "execution_count": 31,
   "metadata": {},
   "outputs": [
    {
     "name": "stdout",
     "output_type": "stream",
     "text": [
      "1.025968122000995\n"
     ]
    }
   ],
   "source": [
    "rows_remaining = len(the_pile) - len(nan_location_df)\n",
    "percent_na_left = (rows_remaining / 27489743) * 100\n",
    "print(percent_na_left)"
   ]
  }
 ],
 "metadata": {
  "kernelspec": {
   "display_name": "Python 3",
   "language": "python",
   "name": "python3"
  },
  "language_info": {
   "codemirror_mode": {
    "name": "ipython",
    "version": 3
   },
   "file_extension": ".py",
   "mimetype": "text/x-python",
   "name": "python",
   "nbconvert_exporter": "python",
   "pygments_lexer": "ipython3",
   "version": "3.10.12"
  }
 },
 "nbformat": 4,
 "nbformat_minor": 2
}
