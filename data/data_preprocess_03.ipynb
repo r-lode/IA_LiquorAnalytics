{
 "cells": [
  {
   "cell_type": "markdown",
   "metadata": {},
   "source": [
    "In order for our geospatial data to be useful, we have to extract the geospatial data from the well known text format into longitude and latitude columns. To do this, we read in the relevant csv files and create a function to extract the numerical latitude and longitude data. Then we apply this function to every file in our dictionary."
   ]
  },
  {
   "cell_type": "code",
   "execution_count": 1,
   "metadata": {},
   "outputs": [],
   "source": [
    "import pandas as pd\n",
    "import glob"
   ]
  },
  {
   "cell_type": "code",
   "execution_count": 2,
   "metadata": {},
   "outputs": [],
   "source": [
    "#get version 2 files\n",
    "files_list = glob.glob('V2*.csv')\n",
    "\n",
    "#read files into a dictionary\n",
    "data_frames = {file: pd.read_csv(file) for file in files_list}"
   ]
  },
  {
   "cell_type": "code",
   "execution_count": 3,
   "metadata": {},
   "outputs": [],
   "source": [
    "#function to extract coordinates from geospatial data\n",
    "def extract_coordinates(point_string):\n",
    "    coordinates = point_string.replace('POINT (', '').replace(')', '').split()\n",
    "    return float(coordinates[0]), float(coordinates[1])"
   ]
  },
  {
   "cell_type": "code",
   "execution_count": 4,
   "metadata": {},
   "outputs": [],
   "source": [
    "#iterate through all files in and change geospatial data. \n",
    "#NOTE this takes a long time to run\n",
    "for file, dataframe in data_frames.items():\n",
    "    #apply extract_coordinates to 'Store Location' column and create geospatial columns\n",
    "    dataframe[['Longitude', 'Latitude']] = dataframe['Store Location'].apply(lambda x: pd.Series(extract_coordinates(x)))"
   ]
  },
  {
   "cell_type": "code",
   "execution_count": 5,
   "metadata": {},
   "outputs": [],
   "source": [
    "#output version 3 files\n",
    "for file, dataframe in data_frames.items():\n",
    "    new_filename = file.replace('V2', 'V3')\n",
    "    dataframe.to_csv(new_filename, index=False)"
   ]
  }
 ],
 "metadata": {
  "kernelspec": {
   "display_name": "Python 3",
   "language": "python",
   "name": "python3"
  },
  "language_info": {
   "codemirror_mode": {
    "name": "ipython",
    "version": 3
   },
   "file_extension": ".py",
   "mimetype": "text/x-python",
   "name": "python",
   "nbconvert_exporter": "python",
   "pygments_lexer": "ipython3",
   "version": "3.10.12"
  }
 },
 "nbformat": 4,
 "nbformat_minor": 2
}
