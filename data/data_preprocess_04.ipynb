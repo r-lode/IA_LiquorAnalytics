{
 "cells": [
  {
   "cell_type": "markdown",
   "metadata": {},
   "source": [
    "Given the structure of the 'Category Names' column, we can easily classify certain types of liquors into types. This lends itself well to one-hot encoding categories for quick data retrieval and analysis. "
   ]
  },
  {
   "cell_type": "code",
   "execution_count": 1,
   "metadata": {},
   "outputs": [],
   "source": [
    "import pandas as pd\n",
    "import glob\n",
    "\n",
    "\n",
    "#get version 3 files\n",
    "files_list = glob.glob('V3*.csv')\n",
    "\n",
    "#read files into a dictionary\n",
    "data_frames = {file: pd.read_csv(file) for file in files_list}\n"
   ]
  },
  {
   "cell_type": "markdown",
   "metadata": {},
   "source": [
    "Here is the function we will use to generate columns based on the 'Category Name' column. For instance, the 'Imports' column will show a 1 if the 'Category Name' contains 'IMPORTED','SCOTCH', 'JAMAICA', 'BARBADOS', or 'JAPANESE' in the string. All of these boolean category columns were created by carefully examining the value counts of the various categories appearing in the 'Category Name' column."
   ]
  },
  {
   "cell_type": "code",
   "execution_count": 2,
   "metadata": {},
   "outputs": [],
   "source": [
    "def create_columns(data):\n",
    "    #create imports column based on Category Name' values\n",
    "    data['Imports'] = (\n",
    "        data['Category Name'].str.contains('IMPORTED', case=False) |\n",
    "        data['Category Name'].str.contains('SCOTCH', case=False) |\n",
    "        data['Category Name'].str.contains('JAMAICA', case=False) |\n",
    "        data['Category Name'].str.contains('BARBADOS', case=False) |\n",
    "        data['Category Name'].str.contains('JAPANESE', case=False)\n",
    "    ).astype(int)\n",
    "\n",
    "    #create vodka column\n",
    "    data['Vodka'] = data['Category Name'].str.contains('VODKA', case=False).astype(int)\n",
    "\n",
    "    #create whisky column\n",
    "    data['Whisky'] = (\n",
    "        data['Category Name'].str.contains('WHISKIES|WHISKY|BOURBON', case=False)\n",
    "    ).astype(int)\n",
    "\n",
    "    #create rum column\n",
    "    data['Rum'] = data['Category Name'].str.contains('RUM', case=False).astype(int)\n",
    "\n",
    "    #create liquer column\n",
    "    data['Liqueur'] = data['Category Name'].str.contains('LIQUEUR', case=False).astype(int)\n",
    "\n",
    "    #create tequila column\n",
    "    data['Tequila'] = data['Category Name'].str.contains('TEQUILA', case=False).astype(int)\n",
    "\n",
    "    #create gin column\n",
    "    data['Gin'] = data['Category Name'].str.contains('GIN', case=False).astype(int)\n",
    "\n",
    "    #create brandy column\n",
    "    data['Brandy'] = data['Category Name'].str.contains('BRANDIES', case=False).astype(int)\n",
    "\n",
    "    #create schnapps column\n",
    "    data['Schnapps'] = data['Category Name'].str.contains('SCHNAPPS', case=False).astype(int)\n",
    "\n",
    "    # Create scotch column\n",
    "    data['Scotch'] = data['Category Name'].str.contains('SCOTCH', case=False).astype(int)\n",
    "\n",
    "    #create specialty column\n",
    "    data['Specialty'] = data['Category Name'].str.contains('SPECIALTY', case=False).astype(int)\n",
    "\n",
    "    #create special order column\n",
    "    data['Special Order'] = data['Category Name'].str.contains('SPECIAL ORDER', case=False).astype(int)\n",
    "\n",
    "    return data\n"
   ]
  },
  {
   "cell_type": "markdown",
   "metadata": {},
   "source": [
    "After we created function, we can apply it to all of our files in our dataset. Then we output those files as csv files in our directory."
   ]
  },
  {
   "cell_type": "code",
   "execution_count": 3,
   "metadata": {},
   "outputs": [],
   "source": [
    "#apply create function to all columns in dataframe\n",
    "for file, dataframe in data_frames.items():\n",
    "    data_frames[file] = create_columns(dataframe)"
   ]
  },
  {
   "cell_type": "code",
   "execution_count": null,
   "metadata": {},
   "outputs": [],
   "source": [
    "#output version 3 files\n",
    "for file, dataframe in data_frames.items():\n",
    "    new_filename = file.replace('V3', 'V4')\n",
    "    dataframe.to_csv(new_filename, index=False)"
   ]
  }
 ],
 "metadata": {
  "kernelspec": {
   "display_name": "Python 3",
   "language": "python",
   "name": "python3"
  },
  "language_info": {
   "codemirror_mode": {
    "name": "ipython",
    "version": 3
   },
   "file_extension": ".py",
   "mimetype": "text/x-python",
   "name": "python",
   "nbconvert_exporter": "python",
   "pygments_lexer": "ipython3",
   "version": "3.10.12"
  }
 },
 "nbformat": 4,
 "nbformat_minor": 2
}
